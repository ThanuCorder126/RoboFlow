{
 "cells": [
  {
   "cell_type": "markdown",
   "metadata": {},
   "source": [
    "# RoboFlow Dwonload Image "
   ]
  },
  {
   "cell_type": "markdown",
   "metadata": {},
   "source": [
    "## install nessary Files"
   ]
  },
  {
   "cell_type": "code",
   "execution_count": null,
   "metadata": {},
   "outputs": [],
   "source": [
    "! pip install roboflow"
   ]
  },
  {
   "cell_type": "markdown",
   "metadata": {},
   "source": [
    "## import nessary packages"
   ]
  },
  {
   "cell_type": "code",
   "execution_count": null,
   "metadata": {},
   "outputs": [],
   "source": [
    "from roboflow import Roboflow"
   ]
  },
  {
   "cell_type": "code",
   "execution_count": null,
   "metadata": {},
   "outputs": [],
   "source": [
    "import os"
   ]
  },
  {
   "cell_type": "code",
   "execution_count": null,
   "metadata": {},
   "outputs": [],
   "source": [
    "from dotenv import load_dotenv"
   ]
  },
  {
   "cell_type": "markdown",
   "metadata": {},
   "source": [
    "### variable Read From enviromental variable"
   ]
  },
  {
   "cell_type": "code",
   "execution_count": null,
   "metadata": {},
   "outputs": [],
   "source": [
    "load_dotenv()"
   ]
  },
  {
   "cell_type": "code",
   "execution_count": null,
   "metadata": {},
   "outputs": [],
   "source": [
    "API_KEY=os.getenv(\"API_KEY\")\n",
    "PROJECT=os.getenv(\"PROJECT\")\n",
    "WORKSPACE=os.getenv(\"WORK_SPACE\")\n",
    "VERSION=os.getenv(\"VERSION\")\n",
    "DATASETTYPE=os.getenv(\"DATASET_TYPE\")\n",
    "SAVE_LOCATION=os.getenv(\"SAVE_LOCATION\")"
   ]
  },
  {
   "cell_type": "markdown",
   "metadata": {},
   "source": [
    "## Roboflow Dataset"
   ]
  },
  {
   "cell_type": "markdown",
   "metadata": {},
   "source": [
    "### project config"
   ]
  },
  {
   "cell_type": "code",
   "execution_count": null,
   "metadata": {},
   "outputs": [],
   "source": [
    "rf = Roboflow(api_key=API_KEY)\n",
    "workspace = rf.workspace(WORKSPACE)\n",
    "project=workspace.project(PROJECT)\n",
    "version = project.version(VERSION)"
   ]
  },
  {
   "cell_type": "markdown",
   "metadata": {},
   "source": [
    "### Download Dataset from Roboflow"
   ]
  },
  {
   "cell_type": "code",
   "execution_count": null,
   "metadata": {},
   "outputs": [],
   "source": [
    "dataset = version.download(DATASETTYPE,location=SAVE_LOCATION)                "
   ]
  },
  {
   "cell_type": "markdown",
   "metadata": {},
   "source": [
    "### upload Dataset"
   ]
  },
  {
   "cell_type": "code",
   "execution_count": null,
   "metadata": {},
   "outputs": [],
   "source": [
    "workspace.upload_dataset(\n",
    "    \"./dataset/\", # This is your dataset path\n",
    "    \"PROJECT_ID\", # This will either create or get a dataset with the given ID\n",
    "    num_workers=10,\n",
    "    project_license=\"MIT\",\n",
    "    project_type=\"object-detection\",\n",
    "    batch_name=None,\n",
    "    num_retries=0\n",
    ")"
   ]
  },
  {
   "cell_type": "markdown",
   "metadata": {},
   "source": [
    "### upload Image in roboflow"
   ]
  },
  {
   "cell_type": "code",
   "execution_count": null,
   "metadata": {},
   "outputs": [],
   "source": [
    "project.upload(\"UPLOAD_IMAGE.jpg\")"
   ]
  },
  {
   "cell_type": "code",
   "execution_count": null,
   "metadata": {},
   "outputs": [],
   "source": [
    "project.upload(\n",
    "    image_path=\"UPLOAD_IMAGE.jpg\",\n",
    "    batch_name=\"YOUR_BATCH_NAME\",\n",
    "    split=\"train\",\n",
    "    num_retry_uploads=3,\n",
    "    tag=\"YOUR_TAG_NAME\",\n",
    "    sequence_number=99,\n",
    "    sequence_size=100\n",
    ")"
   ]
  }
 ],
 "metadata": {
  "language_info": {
   "name": "python"
  }
 },
 "nbformat": 4,
 "nbformat_minor": 2
}
